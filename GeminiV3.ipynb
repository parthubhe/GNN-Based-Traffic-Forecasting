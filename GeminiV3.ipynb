{
 "cells": [
  {
   "cell_type": "code",
   "execution_count": 1,
   "id": "0a4cdadd",
   "metadata": {},
   "outputs": [],
   "source": [
    "# --- 1. SETUP AND INSTALLATIONS ---\n",
    "# This cell installs all required packages and sets up directories.\n",
    "# It should be run once at the beginning of each session.\n",
    "\n",
    "!pip install torch pydeck h5py pandas numpy scikit-learn -q matplotlib ipywidgets tables tqdm seaborn"
   ]
  },
  {
   "cell_type": "code",
   "execution_count": 2,
   "id": "2e3c90cb",
   "metadata": {},
   "outputs": [
    {
     "name": "stdout",
     "output_type": "stream",
     "text": [
      "Output directory: D:\\IPYNB Notebooks\\dlp_ese\\output\n",
      "Tuning results will be saved in: D:\\IPYNB Notebooks\\dlp_ese\\output\\tuning_results\n",
      "Using device: cuda\n"
     ]
    }
   ],
   "source": [
    "\n",
    "\n",
    "import os\n",
    "import pickle\n",
    "import numpy as np\n",
    "import pandas as pd\n",
    "import torch\n",
    "import torch.nn as nn\n",
    "import torch.nn.functional as F\n",
    "from torch.utils.data import Dataset, DataLoader\n",
    "from sklearn.preprocessing import StandardScaler\n",
    "import matplotlib.pyplot as plt\n",
    "import pydeck as pdk\n",
    "import inspect\n",
    "import json\n",
    "import ipywidgets as widgets\n",
    "from IPython.display import display, clear_output\n",
    "from tqdm.notebook import tqdm\n",
    "import time\n",
    "import networkx as nx\n",
    "\n",
    "# --- 2. GLOBAL CONFIGURATION ---\n",
    "# Define all major parameters and paths in one place for easy modification.\n",
    "\n",
    "# Core Parameters\n",
    "HISTORY_LEN = 12\n",
    "HORIZON = 12\n",
    "SEED = 42\n",
    "\n",
    "# File Paths (IMPORTANT: Update if your local path is different)\n",
    "DRIVE_DATA_PATH = r'D:\\IPYNB Notebooks\\dlp_ese\\Dataset_DP_ESE'\n",
    "DRIVE_OUTPUT_PATH = r'D:\\IPYNB Notebooks\\dlp_ese\\output'\n",
    "DRIVE_TUNING_PATH = os.path.join(DRIVE_OUTPUT_PATH, 'tuning_results')\n",
    "SCALER_SAVE_PATH = os.path.join(DRIVE_OUTPUT_PATH, 'scaler.pkl')\n",
    "\n",
    "# Visualization\n",
    "MAPBOX_API_KEY = \"\"\n",
    "\n",
    "# --- 3. INITIALIZE ENVIRONMENT ---\n",
    "# Create directories, set the device (GPU/CPU), and fix the random seed.\n",
    "\n",
    "if not os.path.exists(DRIVE_OUTPUT_PATH):\n",
    "    os.makedirs(DRIVE_OUTPUT_PATH)\n",
    "if not os.path.exists(DRIVE_TUNING_PATH):\n",
    "    os.makedirs(DRIVE_TUNING_PATH)\n",
    "\n",
    "device = torch.device(\"cuda\" if torch.cuda.is_available() else \"cpu\")\n",
    "def set_seed(seed):\n",
    "    torch.manual_seed(seed)\n",
    "    if torch.cuda.is_available():\n",
    "        torch.cuda.manual_seed_all(seed)\n",
    "    np.random.seed(seed)\n",
    "    torch.backends.cudnn.deterministic = True\n",
    "    torch.backends.cudnn.benchmark = False\n",
    "set_seed(SEED)\n",
    "\n",
    "print(f\"Output directory: {DRIVE_OUTPUT_PATH}\")\n",
    "print(f\"Tuning results will be saved in: {DRIVE_TUNING_PATH}\")\n",
    "print(f\"Using device: {device}\")"
   ]
  },
  {
   "cell_type": "code",
   "execution_count": 3,
   "id": "e955145c",
   "metadata": {},
   "outputs": [
    {
     "name": "stdout",
     "output_type": "stream",
     "text": [
      "Data loaded and processed. Train samples: 23967\n"
     ]
    }
   ],
   "source": [
    "# --- 1. LOAD RAW DATA ---\n",
    "try:\n",
    "    df_traffic = pd.read_hdf(os.path.join(DRIVE_DATA_PATH, 'metr-la.h5'))\n",
    "    with open(os.path.join(DRIVE_DATA_PATH, 'adj_mx.pkl'), 'rb') as f:\n",
    "        sensor_ids_list, _, adj_matrix = pickle.load(f, encoding='latin1')\n",
    "    df_locations = pd.read_csv(os.path.join(DRIVE_DATA_PATH, 'graph_sensor_locations.csv'))\n",
    "except FileNotFoundError as e:\n",
    "    print(f\"ERROR: File not found at '{e.filename}'. Please verify your DRIVE_DATA_PATH.\")\n",
    "    raise e\n",
    "\n",
    "# --- 2. PREPARE GRAPH AND LOCATIONS ---\n",
    "def normalize_adj(adj):\n",
    "    adj = adj + np.eye(adj.shape[0])\n",
    "    d = np.array(adj.sum(1))\n",
    "    d_inv_sqrt = np.power(d, -0.5).flatten()\n",
    "    d_inv_sqrt[np.isinf(d_inv_sqrt)] = 0.\n",
    "    d_mat_inv_sqrt = np.diag(d_inv_sqrt)\n",
    "    return (d_mat_inv_sqrt @ adj @ d_mat_inv_sqrt).astype(np.float32)\n",
    "\n",
    "adj_norm = torch.tensor(normalize_adj(adj_matrix), device=device)\n",
    "df_locations['sensor_ids'] = df_locations['sensor_id'].astype(str)\n",
    "df_locations = df_locations.sort_values(by='sensor_id').reset_index(drop=True) # Ensure consistent order\n",
    "\n",
    "# --- 3. SCALE AND SPLIT TIME SERIES DATA ---\n",
    "traffic_values = df_traffic.values\n",
    "train_size = int(len(traffic_values) * 0.7)\n",
    "val_size = int(len(traffic_values) * 0.1)\n",
    "train_data, val_data, test_data = traffic_values[:train_size], traffic_values[train_size:train_size + val_size], traffic_values[train_size + val_size:]\n",
    "\n",
    "scaler = StandardScaler()\n",
    "train_data_scaled = scaler.fit_transform(train_data)\n",
    "val_data_scaled = scaler.transform(val_data)\n",
    "test_data_scaled = scaler.transform(test_data)\n",
    "with open(SCALER_SAVE_PATH, 'wb') as f:\n",
    "    pickle.dump(scaler, f)\n",
    "\n",
    "# --- 4. CREATE SEQUENCED DATASETS AND DATALOADERS ---\n",
    "def create_dataset(data, lookback, horizon):\n",
    "    X, y = [], []\n",
    "    for i in range(len(data) - lookback - horizon + 1):\n",
    "        X.append(data[i:i + lookback])\n",
    "        y.append(data[i + lookback:i + lookback + horizon])\n",
    "    X = np.array(X)[..., np.newaxis]\n",
    "    y = np.transpose(np.array(y), (0, 2, 1))\n",
    "    return torch.tensor(X, dtype=torch.float32), torch.tensor(y, dtype=torch.float32)\n",
    "\n",
    "X_train, y_train = create_dataset(train_data_scaled, HISTORY_LEN, HORIZON)\n",
    "X_val, y_val = create_dataset(val_data_scaled, HISTORY_LEN, HORIZON)\n",
    "X_test, y_test = create_dataset(test_data_scaled, HISTORY_LEN, HORIZON)\n",
    "\n",
    "class TrafficDataset(Dataset):\n",
    "    def __init__(self, X, y): self.X, self.y = X, y\n",
    "    def __len__(self): return len(self.X)\n",
    "    def __getitem__(self, idx): return self.X[idx], self.y[idx]\n",
    "\n",
    "train_dataset, val_dataset, test_dataset = TrafficDataset(X_train, y_train), TrafficDataset(X_val, y_val), TrafficDataset(X_test, y_test)\n",
    "print(f\"Data loaded and processed. Train samples: {len(train_dataset)}\")"
   ]
  },
  {
   "cell_type": "code",
   "execution_count": 4,
   "id": "2d9dd2fb",
   "metadata": {},
   "outputs": [
    {
     "name": "stdout",
     "output_type": "stream",
     "text": [
      "--- Statistical Summary of Training Data ---\n"
     ]
    },
    {
     "data": {
      "text/html": [
       "<div>\n",
       "<style scoped>\n",
       "    .dataframe tbody tr th:only-of-type {\n",
       "        vertical-align: middle;\n",
       "    }\n",
       "\n",
       "    .dataframe tbody tr th {\n",
       "        vertical-align: top;\n",
       "    }\n",
       "\n",
       "    .dataframe thead th {\n",
       "        text-align: right;\n",
       "    }\n",
       "</style>\n",
       "<table border=\"1\" class=\"dataframe\">\n",
       "  <thead>\n",
       "    <tr style=\"text-align: right;\">\n",
       "      <th></th>\n",
       "      <th>0</th>\n",
       "      <th>1</th>\n",
       "      <th>2</th>\n",
       "      <th>3</th>\n",
       "      <th>4</th>\n",
       "      <th>5</th>\n",
       "      <th>6</th>\n",
       "      <th>7</th>\n",
       "      <th>8</th>\n",
       "      <th>9</th>\n",
       "      <th>...</th>\n",
       "      <th>197</th>\n",
       "      <th>198</th>\n",
       "      <th>199</th>\n",
       "      <th>200</th>\n",
       "      <th>201</th>\n",
       "      <th>202</th>\n",
       "      <th>203</th>\n",
       "      <th>204</th>\n",
       "      <th>205</th>\n",
       "      <th>206</th>\n",
       "    </tr>\n",
       "  </thead>\n",
       "  <tbody>\n",
       "    <tr>\n",
       "      <th>count</th>\n",
       "      <td>23990.000000</td>\n",
       "      <td>23990.000000</td>\n",
       "      <td>23990.000000</td>\n",
       "      <td>23990.000000</td>\n",
       "      <td>23990.000000</td>\n",
       "      <td>23990.000000</td>\n",
       "      <td>23990.000000</td>\n",
       "      <td>23990.000000</td>\n",
       "      <td>23990.000000</td>\n",
       "      <td>23990.000000</td>\n",
       "      <td>...</td>\n",
       "      <td>23990.000000</td>\n",
       "      <td>23990.000000</td>\n",
       "      <td>23990.000000</td>\n",
       "      <td>23990.000000</td>\n",
       "      <td>23990.000000</td>\n",
       "      <td>23990.000000</td>\n",
       "      <td>23990.000000</td>\n",
       "      <td>23990.000000</td>\n",
       "      <td>23990.000000</td>\n",
       "      <td>23990.000000</td>\n",
       "    </tr>\n",
       "    <tr>\n",
       "      <th>mean</th>\n",
       "      <td>57.061794</td>\n",
       "      <td>60.932824</td>\n",
       "      <td>61.176556</td>\n",
       "      <td>50.061579</td>\n",
       "      <td>47.008567</td>\n",
       "      <td>52.006649</td>\n",
       "      <td>55.272628</td>\n",
       "      <td>56.865381</td>\n",
       "      <td>56.530177</td>\n",
       "      <td>53.469050</td>\n",
       "      <td>...</td>\n",
       "      <td>38.331863</td>\n",
       "      <td>58.882876</td>\n",
       "      <td>51.116157</td>\n",
       "      <td>60.251110</td>\n",
       "      <td>59.094880</td>\n",
       "      <td>56.734678</td>\n",
       "      <td>62.939158</td>\n",
       "      <td>55.314459</td>\n",
       "      <td>59.673987</td>\n",
       "      <td>52.138578</td>\n",
       "    </tr>\n",
       "    <tr>\n",
       "      <th>std</th>\n",
       "      <td>20.063672</td>\n",
       "      <td>14.978568</td>\n",
       "      <td>17.476050</td>\n",
       "      <td>15.115344</td>\n",
       "      <td>18.482969</td>\n",
       "      <td>16.164937</td>\n",
       "      <td>17.168220</td>\n",
       "      <td>19.187288</td>\n",
       "      <td>17.432017</td>\n",
       "      <td>22.905283</td>\n",
       "      <td>...</td>\n",
       "      <td>13.026768</td>\n",
       "      <td>19.816564</td>\n",
       "      <td>22.408949</td>\n",
       "      <td>15.152417</td>\n",
       "      <td>20.096318</td>\n",
       "      <td>18.567695</td>\n",
       "      <td>15.992347</td>\n",
       "      <td>15.508219</td>\n",
       "      <td>18.150947</td>\n",
       "      <td>20.365212</td>\n",
       "    </tr>\n",
       "    <tr>\n",
       "      <th>min</th>\n",
       "      <td>0.000000</td>\n",
       "      <td>0.000000</td>\n",
       "      <td>0.000000</td>\n",
       "      <td>0.000000</td>\n",
       "      <td>0.000000</td>\n",
       "      <td>0.000000</td>\n",
       "      <td>0.000000</td>\n",
       "      <td>0.000000</td>\n",
       "      <td>0.000000</td>\n",
       "      <td>0.000000</td>\n",
       "      <td>...</td>\n",
       "      <td>0.000000</td>\n",
       "      <td>0.000000</td>\n",
       "      <td>0.000000</td>\n",
       "      <td>0.000000</td>\n",
       "      <td>0.000000</td>\n",
       "      <td>0.000000</td>\n",
       "      <td>0.000000</td>\n",
       "      <td>0.000000</td>\n",
       "      <td>0.000000</td>\n",
       "      <td>0.000000</td>\n",
       "    </tr>\n",
       "    <tr>\n",
       "      <th>25%</th>\n",
       "      <td>61.750000</td>\n",
       "      <td>63.111111</td>\n",
       "      <td>65.444444</td>\n",
       "      <td>50.555556</td>\n",
       "      <td>35.375000</td>\n",
       "      <td>50.125000</td>\n",
       "      <td>56.555556</td>\n",
       "      <td>60.857143</td>\n",
       "      <td>58.125000</td>\n",
       "      <td>51.750000</td>\n",
       "      <td>...</td>\n",
       "      <td>31.578571</td>\n",
       "      <td>64.333333</td>\n",
       "      <td>53.606250</td>\n",
       "      <td>61.750000</td>\n",
       "      <td>63.500000</td>\n",
       "      <td>60.125000</td>\n",
       "      <td>65.875000</td>\n",
       "      <td>50.875000</td>\n",
       "      <td>63.142857</td>\n",
       "      <td>55.500000</td>\n",
       "    </tr>\n",
       "    <tr>\n",
       "      <th>50%</th>\n",
       "      <td>65.125000</td>\n",
       "      <td>65.000000</td>\n",
       "      <td>67.333333</td>\n",
       "      <td>54.000000</td>\n",
       "      <td>46.444444</td>\n",
       "      <td>56.666667</td>\n",
       "      <td>62.333333</td>\n",
       "      <td>63.250000</td>\n",
       "      <td>62.375000</td>\n",
       "      <td>66.000000</td>\n",
       "      <td>...</td>\n",
       "      <td>43.142857</td>\n",
       "      <td>67.111111</td>\n",
       "      <td>61.777778</td>\n",
       "      <td>64.875000</td>\n",
       "      <td>66.750000</td>\n",
       "      <td>63.000000</td>\n",
       "      <td>67.625000</td>\n",
       "      <td>61.375000</td>\n",
       "      <td>66.222222</td>\n",
       "      <td>62.125000</td>\n",
       "    </tr>\n",
       "    <tr>\n",
       "      <th>75%</th>\n",
       "      <td>66.888889</td>\n",
       "      <td>66.333333</td>\n",
       "      <td>68.375000</td>\n",
       "      <td>58.125000</td>\n",
       "      <td>64.625000</td>\n",
       "      <td>61.250000</td>\n",
       "      <td>65.111111</td>\n",
       "      <td>65.000000</td>\n",
       "      <td>65.000000</td>\n",
       "      <td>67.666667</td>\n",
       "      <td>...</td>\n",
       "      <td>46.666667</td>\n",
       "      <td>68.428571</td>\n",
       "      <td>64.333333</td>\n",
       "      <td>66.500000</td>\n",
       "      <td>68.250000</td>\n",
       "      <td>64.750000</td>\n",
       "      <td>68.555556</td>\n",
       "      <td>64.555556</td>\n",
       "      <td>67.750000</td>\n",
       "      <td>63.444444</td>\n",
       "    </tr>\n",
       "    <tr>\n",
       "      <th>max</th>\n",
       "      <td>70.000000</td>\n",
       "      <td>70.000000</td>\n",
       "      <td>70.000000</td>\n",
       "      <td>70.000000</td>\n",
       "      <td>70.000000</td>\n",
       "      <td>70.000000</td>\n",
       "      <td>70.000000</td>\n",
       "      <td>70.000000</td>\n",
       "      <td>70.000000</td>\n",
       "      <td>70.000000</td>\n",
       "      <td>...</td>\n",
       "      <td>65.000000</td>\n",
       "      <td>70.000000</td>\n",
       "      <td>70.000000</td>\n",
       "      <td>70.000000</td>\n",
       "      <td>70.000000</td>\n",
       "      <td>70.000000</td>\n",
       "      <td>70.000000</td>\n",
       "      <td>70.000000</td>\n",
       "      <td>70.000000</td>\n",
       "      <td>70.000000</td>\n",
       "    </tr>\n",
       "  </tbody>\n",
       "</table>\n",
       "<p>8 rows × 207 columns</p>\n",
       "</div>"
      ],
      "text/plain": [
       "                0             1             2             3             4    \\\n",
       "count  23990.000000  23990.000000  23990.000000  23990.000000  23990.000000   \n",
       "mean      57.061794     60.932824     61.176556     50.061579     47.008567   \n",
       "std       20.063672     14.978568     17.476050     15.115344     18.482969   \n",
       "min        0.000000      0.000000      0.000000      0.000000      0.000000   \n",
       "25%       61.750000     63.111111     65.444444     50.555556     35.375000   \n",
       "50%       65.125000     65.000000     67.333333     54.000000     46.444444   \n",
       "75%       66.888889     66.333333     68.375000     58.125000     64.625000   \n",
       "max       70.000000     70.000000     70.000000     70.000000     70.000000   \n",
       "\n",
       "                5             6             7             8             9    \\\n",
       "count  23990.000000  23990.000000  23990.000000  23990.000000  23990.000000   \n",
       "mean      52.006649     55.272628     56.865381     56.530177     53.469050   \n",
       "std       16.164937     17.168220     19.187288     17.432017     22.905283   \n",
       "min        0.000000      0.000000      0.000000      0.000000      0.000000   \n",
       "25%       50.125000     56.555556     60.857143     58.125000     51.750000   \n",
       "50%       56.666667     62.333333     63.250000     62.375000     66.000000   \n",
       "75%       61.250000     65.111111     65.000000     65.000000     67.666667   \n",
       "max       70.000000     70.000000     70.000000     70.000000     70.000000   \n",
       "\n",
       "       ...           197           198           199           200  \\\n",
       "count  ...  23990.000000  23990.000000  23990.000000  23990.000000   \n",
       "mean   ...     38.331863     58.882876     51.116157     60.251110   \n",
       "std    ...     13.026768     19.816564     22.408949     15.152417   \n",
       "min    ...      0.000000      0.000000      0.000000      0.000000   \n",
       "25%    ...     31.578571     64.333333     53.606250     61.750000   \n",
       "50%    ...     43.142857     67.111111     61.777778     64.875000   \n",
       "75%    ...     46.666667     68.428571     64.333333     66.500000   \n",
       "max    ...     65.000000     70.000000     70.000000     70.000000   \n",
       "\n",
       "                201           202           203           204           205  \\\n",
       "count  23990.000000  23990.000000  23990.000000  23990.000000  23990.000000   \n",
       "mean      59.094880     56.734678     62.939158     55.314459     59.673987   \n",
       "std       20.096318     18.567695     15.992347     15.508219     18.150947   \n",
       "min        0.000000      0.000000      0.000000      0.000000      0.000000   \n",
       "25%       63.500000     60.125000     65.875000     50.875000     63.142857   \n",
       "50%       66.750000     63.000000     67.625000     61.375000     66.222222   \n",
       "75%       68.250000     64.750000     68.555556     64.555556     67.750000   \n",
       "max       70.000000     70.000000     70.000000     70.000000     70.000000   \n",
       "\n",
       "                206  \n",
       "count  23990.000000  \n",
       "mean      52.138578  \n",
       "std       20.365212  \n",
       "min        0.000000  \n",
       "25%       55.500000  \n",
       "50%       62.125000  \n",
       "75%       63.444444  \n",
       "max       70.000000  \n",
       "\n",
       "[8 rows x 207 columns]"
      ]
     },
     "metadata": {},
     "output_type": "display_data"
    },
    {
     "data": {
      "image/png": "[encoded data removed]",
      "text/plain": [
       "<Figure size 800x800 with 1 Axes>"
      ]
     },
     "metadata": {},
     "output_type": "display_data"
    },
    {
     "data": {
      "image/png": "[encoded data removed]",
      "text/plain": [
       "<Figure size 1400x600 with 2 Axes>"
      ]
     },
     "metadata": {},
     "output_type": "display_data"
    }
   ],
   "source": [
    "# --- 1. ANALYSIS OF DATA SPLITS ---\n",
    "print(\"--- Statistical Summary of Training Data ---\")\n",
    "display(pd.DataFrame(train_data).describe())\n",
    "\n",
    "# --- 2. VISUALIZATION OF THE ADJACENCY MATRIX ---\n",
    "plt.figure(figsize=(8, 8))\n",
    "plt.imshow(adj_matrix, cmap='Greys', interpolation='nearest')\n",
    "plt.title('Adjacency Matrix (White dots = connected sensors)')\n",
    "plt.show()\n",
    "\n",
    "# --- 3. VISUALIZATION OF NORMALIZED SPEED DATA ---\n",
    "fig, ax1 = plt.subplots(figsize=(14, 6))\n",
    "ax1.set_xlabel('Time Steps (5-min intervals)')\n",
    "ax1.set_ylabel('Original Speed (mph)', color='tab:blue')\n",
    "ax1.plot(train_data[:288, 0], color='tab:blue', label='Original')\n",
    "ax2 = ax1.twinx()  \n",
    "ax2.set_ylabel('Normalized Speed (Standard Score)', color='tab:red')\n",
    "ax2.plot(train_data_scaled[:288, 0], color='tab:red', label='Normalized')\n",
    "plt.title('Original vs. Normalized Speed for a Single Sensor (First 24 Hours)')\n",
    "plt.show()"
   ]
  },
  {
   "cell_type": "code",
   "execution_count": 18,
   "id": "d172b232",
   "metadata": {},
   "outputs": [],
   "source": [
    "# SEARCH_SPACE = {\n",
    "#     \"DSTAGNN\": [\n",
    "#         {'spatial_hidden': 32, 'temporal_hidden': 64, 'dropout': 0.3, 'lr': 0.001},\n",
    "#         {'spatial_hidden': 64, 'temporal_hidden': 128, 'dropout': 0.3, 'lr': 0.0005},\n",
    "#         {'spatial_hidden': 64, 'temporal_hidden': 128, 'dropout': 0.5, 'lr': 0.0005},\n",
    "#     ],\n",
    "#     \"STGCN\": [\n",
    "#         {'out_channels': 32, 'spatial_channels': 8, 'lr': 0.001},\n",
    "#         {'out_channels': 64, 'spatial_channels': 16, 'lr': 0.001},\n",
    "#         {'out_channels': 64, 'spatial_channels': 16, 'lr': 0.0005},\n",
    "#     ],\n",
    "#     \"GAT_LSTM\": [\n",
    "#         # Note: These runs are very slow and are skipped by default in the training cell.\n",
    "#         {'spatial_hidden': 32, 'temporal_hidden': 64, 'dropout': 0.3, 'lr': 0.001},\n",
    "#         {'spatial_hidden': 64, 'temporal_hidden': 128, 'dropout': 0.3, 'lr': 0.0005},\n",
    "#         {'spatial_hidden': 48, 'temporal_hidden': 96, 'dropout': 0.5, 'lr': 0.0007},\n",
    "#     ],\n",
    "# }\n",
    "\n",
    "# TUNING_EPOCHS = 20\n",
    "# TUNING_BATCH_SIZE = 64\n",
    "\n",
    "# train_loader = DataLoader(train_dataset, batch_size=TUNING_BATCH_SIZE, shuffle=True)\n",
    "# val_loader = DataLoader(val_dataset, batch_size=TUNING_BATCH_SIZE, shuffle=False)\n",
    "# test_loader = DataLoader(test_dataset, batch_size=TUNING_BATCH_SIZE, shuffle=False)"
   ]
  },
  {
   "cell_type": "code",
   "execution_count": 5,
   "id": "2dd1760e",
   "metadata": {},
   "outputs": [],
   "source": [
    "SEARCH_SPACE = {\n",
    "    \"DSTAGNN\": [\n",
    "        {'spatial_hidden': 32, 'temporal_hidden': 64, 'dropout': 0.3, 'lr': 0.001},\n",
    "       \n",
    "    ],\n",
    "    \"STGCN\": [\n",
    "        {'out_channels': 32, 'spatial_channels': 8, 'lr': 0.001},\n",
    "        \n",
    "    ],\n",
    "    \"GAT_LSTM\": [\n",
    "        # Note: These runs are very slow and are skipped by default in the training cell.\n",
    "        {'spatial_hidden': 32, 'temporal_hidden': 64, 'dropout': 0.3, 'lr': 0.001},\n",
    "        {'spatial_hidden': 64, 'temporal_hidden': 128, 'dropout': 0.3, 'lr': 0.0005},\n",
    "        {'spatial_hidden': 48, 'temporal_hidden': 96, 'dropout': 0.5, 'lr': 0.0007},\n",
    "    ],\n",
    "}\n",
    "\n",
    "TUNING_EPOCHS = 20\n",
    "TUNING_BATCH_SIZE = 64\n",
    "\n",
    "train_loader = DataLoader(train_dataset, batch_size=TUNING_BATCH_SIZE, shuffle=True)\n",
    "val_loader = DataLoader(val_dataset, batch_size=TUNING_BATCH_SIZE, shuffle=False)\n",
    "test_loader = DataLoader(test_dataset, batch_size=TUNING_BATCH_SIZE, shuffle=False)"
   ]
  },
  {
   "cell_type": "code",
   "execution_count": 6,
   "id": "6e2f332e",
   "metadata": {},
   "outputs": [
    {
     "name": "stdout",
     "output_type": "stream",
     "text": [
      "Model classes defined.\n"
     ]
    }
   ],
   "source": [
    "# === Section 1: Helper Modules ===\n",
    "class GraphConvolution(nn.Module):\n",
    "    def __init__(self, in_features, out_features, dropout=0.3):\n",
    "        super(GraphConvolution, self).__init__()\n",
    "        self.weight = nn.Parameter(torch.FloatTensor(in_features, out_features))\n",
    "        self.dropout = nn.Dropout(dropout)\n",
    "        nn.init.xavier_uniform_(self.weight)\n",
    "    def forward(self, x, adj):\n",
    "        support = torch.matmul(x, self.weight)\n",
    "        output = torch.matmul(adj, support)\n",
    "        return F.relu(self.dropout(output))\n",
    "\n",
    "class GATLayer(nn.Module):\n",
    "    def __init__(self, in_features, out_features, dropout=0.3, alpha=0.2):\n",
    "        super(GATLayer, self).__init__()\n",
    "        self.dropout, self.in_features, self.out_features, self.alpha = dropout, in_features, out_features, alpha\n",
    "        self.W = nn.Parameter(torch.zeros(size=(in_features, out_features)))\n",
    "        nn.init.xavier_uniform_(self.W.data, gain=1.414)\n",
    "        self.a = nn.Parameter(torch.zeros(size=(2 * out_features, 1)))\n",
    "        nn.init.xavier_uniform_(self.a.data, gain=1.414)\n",
    "        self.leakyrelu = nn.LeakyReLU(self.alpha)\n",
    "    def forward(self, x, adj):\n",
    "        h = torch.matmul(x, self.W)\n",
    "        N = h.size()[1]\n",
    "        a_input = torch.cat([h.repeat(1, 1, N).view(-1, N * N, self.out_features), h.repeat(1, N, 1)], dim=2).view(-1, N, N, 2 * self.out_features)\n",
    "        e = self.leakyrelu(torch.matmul(a_input, self.a).squeeze(3))\n",
    "        zero_vec = -9e15 * torch.ones_like(e)\n",
    "        attention = torch.where(adj > 0, e, zero_vec)\n",
    "        attention = F.dropout(F.softmax(attention, dim=2), self.dropout, training=self.training)\n",
    "        return F.elu(torch.bmm(attention, h))\n",
    "\n",
    "class TemporalConvLayer(nn.Module):\n",
    "    def __init__(self, in_channels, out_channels, kernel_size=3):\n",
    "        super(TemporalConvLayer, self).__init__()\n",
    "        self.conv_a = nn.Conv2d(in_channels, out_channels, (kernel_size, 1), padding=((kernel_size - 1) // 2, 0))\n",
    "        self.conv_b = nn.Conv2d(in_channels, out_channels, (kernel_size, 1), padding=((kernel_size - 1) // 2, 0))\n",
    "    def forward(self, x):\n",
    "        return self.conv_a(x) * F.sigmoid(self.conv_b(x))\n",
    "\n",
    "class STConvBlock(nn.Module):\n",
    "    def __init__(self, in_channels, spatial_channels, out_channels, num_nodes):\n",
    "        super(STConvBlock, self).__init__()\n",
    "        self.tcn1 = TemporalConvLayer(in_channels, out_channels)\n",
    "        self.gcn = GraphConvolution(out_channels, spatial_channels)\n",
    "        self.tcn2 = TemporalConvLayer(spatial_channels, out_channels)\n",
    "        self.layer_norm = nn.LayerNorm([num_nodes, out_channels])\n",
    "    def forward(self, x, adj):\n",
    "        residual = x\n",
    "        x = self.tcn1(x)\n",
    "        x = self.gcn(x.permute(0, 2, 3, 1), adj).permute(0, 3, 1, 2)\n",
    "        x = self.tcn2(x)\n",
    "        return self.layer_norm((x + residual).permute(0, 2, 3, 1)).permute(0, 3, 1, 2)\n",
    "\n",
    "# === Section 2: Main Model Architectures ===\n",
    "class DSTAGNNEnhanced(nn.Module):\n",
    "    def __init__(self, adj, num_nodes, forecast_horizon, spatial_hidden, temporal_hidden, dropout, **kwargs):\n",
    "        super(DSTAGNNEnhanced, self).__init__()\n",
    "        self.register_buffer('adj', adj)\n",
    "        self.gcn = GraphConvolution(1, spatial_hidden, dropout=dropout)\n",
    "        self.lstm = nn.LSTM(spatial_hidden, temporal_hidden, num_layers=2, batch_first=True, dropout=dropout)\n",
    "        self.fc = nn.Linear(temporal_hidden, forecast_horizon)\n",
    "        self.num_nodes, self.forecast_horizon = num_nodes, forecast_horizon\n",
    "    def forward(self, x, adj_matrix=None):\n",
    "        adj = adj_matrix if adj_matrix is not None else self.adj\n",
    "        batch_size, lookback, _, _ = x.size()\n",
    "        spatial_outputs = [self.gcn(x[:, t, :, :], adj) for t in range(lookback)]\n",
    "        spatial_features = torch.stack(spatial_outputs, dim=1)\n",
    "        lstm_input = spatial_features.permute(0, 2, 1, 3).reshape(batch_size * self.num_nodes, lookback, -1)\n",
    "        lstm_out, _ = self.lstm(lstm_input)\n",
    "        out = self.fc(lstm_out[:, -1, :])\n",
    "        return out.reshape(batch_size, self.num_nodes, self.forecast_horizon)\n",
    "\n",
    "class STGCN(nn.Module):\n",
    "    def __init__(self, adj, num_nodes, forecast_horizon, out_channels, spatial_channels, **kwargs):\n",
    "        super(STGCN, self).__init__()\n",
    "        self.register_buffer('adj', adj)\n",
    "        self.block1 = STConvBlock(1, spatial_channels, out_channels, num_nodes)\n",
    "        self.block2 = STConvBlock(out_channels, spatial_channels, out_channels, num_nodes)\n",
    "        self.final_conv = nn.Conv2d(out_channels, forecast_horizon, (HISTORY_LEN, 1))\n",
    "    def forward(self, x, adj_matrix=None):\n",
    "        adj = adj_matrix if adj_matrix is not None else self.adj\n",
    "        x = self.block1(x.permute(0, 3, 1, 2), adj)\n",
    "        x = self.block2(x, adj)\n",
    "        x = self.final_conv(x).squeeze(2)\n",
    "        return x.permute(0, 2, 1)\n",
    "\n",
    "class GAT_LSTM_Model(nn.Module):\n",
    "    def __init__(self, adj, num_nodes, forecast_horizon, spatial_hidden, temporal_hidden, dropout, **kwargs):\n",
    "        super(GAT_LSTM_Model, self).__init__()\n",
    "        self.register_buffer('adj', adj)\n",
    "        self.gat = GATLayer(1, spatial_hidden, dropout=dropout)\n",
    "        self.lstm = nn.LSTM(spatial_hidden * num_nodes, temporal_hidden, num_layers=2, dropout=dropout, batch_first=True)\n",
    "        self.fc = nn.Linear(temporal_hidden, num_nodes * forecast_horizon)\n",
    "        self.num_nodes, self.forecast_horizon = num_nodes, forecast_horizon\n",
    "    def forward(self, x, adj_matrix=None):\n",
    "        adj = adj_matrix if adj_matrix is not None else self.adj\n",
    "        batch_size, lookback, _, _ = x.size()\n",
    "        spatial_outputs = [self.gat(x[:, t, :, :], adj) for t in range(lookback)]\n",
    "        spatial_features = torch.stack(spatial_outputs, dim=1)\n",
    "        lstm_input = spatial_features.reshape(batch_size, lookback, -1)\n",
    "        lstm_out, _ = self.lstm(lstm_input)\n",
    "        out = self.fc(lstm_out[:, -1, :])\n",
    "        return out.view(batch_size, self.num_nodes, self.forecast_horizon)\n",
    "\n",
    "MODEL_CLASSES = {\"DSTAGNN\": DSTAGNNEnhanced, \"STGCN\": STGCN, \"GAT_LSTM\": GAT_LSTM_Model}\n",
    "print(\"Model classes defined.\")"
   ]
  },
  {
   "cell_type": "code",
   "execution_count": 7,
   "id": "186fd2d1",
   "metadata": {},
   "outputs": [
    {
     "data": {
      "application/vnd.jupyter.widget-view+json": {
       "model_id": "5c551f2410d94c20a8e83ff0378a9724",
       "version_major": 2,
       "version_minor": 0
      },
      "text/plain": [
       "Overall Tuning Progress:   0%|          | 0/3 [00:00<?, ?it/s]"
      ]
     },
     "metadata": {},
     "output_type": "display_data"
    },
    {
     "name": "stdout",
     "output_type": "stream",
     "text": [
      "--- Training DSTAGNN Run #1 | Params: {'spatial_hidden': 32, 'temporal_hidden': 64, 'dropout': 0.3, 'lr': 0.001} ---\n"
     ]
    },
    {
     "data": {
      "application/vnd.jupyter.widget-view+json": {
       "model_id": "0ee6e89b5764443cbe892f6bde74f864",
       "version_major": 2,
       "version_minor": 0
      },
      "text/plain": [
       "Training Run #1:   0%|          | 0/20 [00:00<?, ?epoch/s]"
      ]
     },
     "metadata": {},
     "output_type": "display_data"
    },
    {
     "data": {
      "application/vnd.jupyter.widget-view+json": {
       "model_id": "b286bbdfaab04119869acc229f455171",
       "version_major": 2,
       "version_minor": 0
      },
      "text/plain": [
       "Epoch 1/20 (Train):   0%|          | 0/375 [00:00<?, ?batch/s]"
      ]
     },
     "metadata": {},
     "output_type": "display_data"
    },
    {
     "data": {
      "application/vnd.jupyter.widget-view+json": {
       "model_id": "2c9154a62de3453cbaa0fcea9e71a5c7",
       "version_major": 2,
       "version_minor": 0
      },
      "text/plain": [
       "Epoch 2/20 (Train):   0%|          | 0/375 [00:00<?, ?batch/s]"
      ]
     },
     "metadata": {},
     "output_type": "display_data"
    },
    {
     "data": {
      "application/vnd.jupyter.widget-view+json": {
       "model_id": "70e552a5d9fa4b47a72bdc0893bf4c7f",
       "version_major": 2,
       "version_minor": 0
      },
      "text/plain": [
       "Epoch 3/20 (Train):   0%|          | 0/375 [00:00<?, ?batch/s]"
      ]
     },
     "metadata": {},
     "output_type": "display_data"
    },
    {
     "data": {
      "application/vnd.jupyter.widget-view+json": {
       "model_id": "25b2a3ea73ad4e2ba353b393e6379116",
       "version_major": 2,
       "version_minor": 0
      },
      "text/plain": [
       "Epoch 4/20 (Train):   0%|          | 0/375 [00:00<?, ?batch/s]"
      ]
     },
     "metadata": {},
     "output_type": "display_data"
    },
    {
     "data": {
      "application/vnd.jupyter.widget-view+json": {
       "model_id": "9e4fe23222fa48f283e5bbe0426274d0",
       "version_major": 2,
       "version_minor": 0
      },
      "text/plain": [
       "Epoch 5/20 (Train):   0%|          | 0/375 [00:00<?, ?batch/s]"
      ]
     },
     "metadata": {},
     "output_type": "display_data"
    },
    {
     "data": {
      "application/vnd.jupyter.widget-view+json": {
       "model_id": "26acddbacece4fd993724d1644650ff2",
       "version_major": 2,
       "version_minor": 0
      },
      "text/plain": [
       "Epoch 6/20 (Train):   0%|          | 0/375 [00:00<?, ?batch/s]"
      ]
     },
     "metadata": {},
     "output_type": "display_data"
    },
    {
     "data": {
      "application/vnd.jupyter.widget-view+json": {
       "model_id": "1b53defcc87a4571beb2d0139bde6540",
       "version_major": 2,
       "version_minor": 0
      },
      "text/plain": [
       "Epoch 7/20 (Train):   0%|          | 0/375 [00:00<?, ?batch/s]"
      ]
     },
     "metadata": {},
     "output_type": "display_data"
    },
    {
     "data": {
      "application/vnd.jupyter.widget-view+json": {
       "model_id": "a816a7b756a749e1906bca2177073dc8",
       "version_major": 2,
       "version_minor": 0
      },
      "text/plain": [
       "Epoch 8/20 (Train):   0%|          | 0/375 [00:00<?, ?batch/s]"
      ]
     },
     "metadata": {},
     "output_type": "display_data"
    },
    {
     "data": {
      "application/vnd.jupyter.widget-view+json": {
       "model_id": "507171b3774f4f919fbab45ab4dd31cd",
       "version_major": 2,
       "version_minor": 0
      },
      "text/plain": [
       "Epoch 9/20 (Train):   0%|          | 0/375 [00:00<?, ?batch/s]"
      ]
     },
     "metadata": {},
     "output_type": "display_data"
    },
    {
     "data": {
      "application/vnd.jupyter.widget-view+json": {
       "model_id": "ef53854b3ccf42d98c4935f1dcbbe141",
       "version_major": 2,
       "version_minor": 0
      },
      "text/plain": [
       "Epoch 10/20 (Train):   0%|          | 0/375 [00:00<?, ?batch/s]"
      ]
     },
     "metadata": {},
     "output_type": "display_data"
    },
    {
     "data": {
      "application/vnd.jupyter.widget-view+json": {
       "model_id": "f0720640e11c481393c92da1c209fc01",
       "version_major": 2,
       "version_minor": 0
      },
      "text/plain": [
       "Epoch 11/20 (Train):   0%|          | 0/375 [00:00<?, ?batch/s]"
      ]
     },
     "metadata": {},
     "output_type": "display_data"
    },
    {
     "data": {
      "application/vnd.jupyter.widget-view+json": {
       "model_id": "65ef1246bcb3494c99089c3b1f1d0bdf",
       "version_major": 2,
       "version_minor": 0
      },
      "text/plain": [
       "Epoch 12/20 (Train):   0%|          | 0/375 [00:00<?, ?batch/s]"
      ]
     },
     "metadata": {},
     "output_type": "display_data"
    },
    {
     "data": {
      "application/vnd.jupyter.widget-view+json": {
       "model_id": "bffcd108ad7f4f05a6c421fe48cfaa72",
       "version_major": 2,
       "version_minor": 0
      },
      "text/plain": [
       "Epoch 13/20 (Train):   0%|          | 0/375 [00:00<?, ?batch/s]"
      ]
     },
     "metadata": {},
     "output_type": "display_data"
    },
    {
     "data": {
      "application/vnd.jupyter.widget-view+json": {
       "model_id": "ff43337d00f6401f8171411a9fa90395",
       "version_major": 2,
       "version_minor": 0
      },
      "text/plain": [
       "Epoch 14/20 (Train):   0%|          | 0/375 [00:00<?, ?batch/s]"
      ]
     },
     "metadata": {},
     "output_type": "display_data"
    },
    {
     "data": {
      "application/vnd.jupyter.widget-view+json": {
       "model_id": "c53d4ceb0721477890bcab5c1931072c",
       "version_major": 2,
       "version_minor": 0
      },
      "text/plain": [
       "Epoch 15/20 (Train):   0%|          | 0/375 [00:00<?, ?batch/s]"
      ]
     },
     "metadata": {},
     "output_type": "display_data"
    },
    {
     "data": {
      "application/vnd.jupyter.widget-view+json": {
       "model_id": "2ea2cd34a2684d309c545ca4efec6db2",
       "version_major": 2,
       "version_minor": 0
      },
      "text/plain": [
       "Epoch 16/20 (Train):   0%|          | 0/375 [00:00<?, ?batch/s]"
      ]
     },
     "metadata": {},
     "output_type": "display_data"
    },
    {
     "data": {
      "application/vnd.jupyter.widget-view+json": {
       "model_id": "9ca89e7cfdf8473e9b7f1bceb70bb8c1",
       "version_major": 2,
       "version_minor": 0
      },
      "text/plain": [
       "Epoch 17/20 (Train):   0%|          | 0/375 [00:00<?, ?batch/s]"
      ]
     },
     "metadata": {},
     "output_type": "display_data"
    },
    {
     "data": {
      "application/vnd.jupyter.widget-view+json": {
       "model_id": "05ad5bbc09384c06ab114f101d84d84f",
       "version_major": 2,
       "version_minor": 0
      },
      "text/plain": [
       "Epoch 18/20 (Train):   0%|          | 0/375 [00:00<?, ?batch/s]"
      ]
     },
     "metadata": {},
     "output_type": "display_data"
    },
    {
     "data": {
      "application/vnd.jupyter.widget-view+json": {
       "model_id": "ebd8316509d0469189ad8e4c742900c9",
       "version_major": 2,
       "version_minor": 0
      },
      "text/plain": [
       "Epoch 19/20 (Train):   0%|          | 0/375 [00:00<?, ?batch/s]"
      ]
     },
     "metadata": {},
     "output_type": "display_data"
    },
    {
     "data": {
      "application/vnd.jupyter.widget-view+json": {
       "model_id": "bdd01a3716cd4c88b72b1b4de4c43bf9",
       "version_major": 2,
       "version_minor": 0
      },
      "text/plain": [
       "Epoch 20/20 (Train):   0%|          | 0/375 [00:00<?, ?batch/s]"
      ]
     },
     "metadata": {},
     "output_type": "display_data"
    },
    {
     "name": "stdout",
     "output_type": "stream",
     "text": [
      "Finished Training. Best Val Loss: 0.396932. Model saved to D:\\IPYNB Notebooks\\dlp_ese\\output\\tuning_results\\DSTAGNN_run_1.pth\n",
      "\n",
      "--- Training STGCN Run #1 | Params: {'out_channels': 32, 'spatial_channels': 8, 'lr': 0.001} ---\n"
     ]
    },
    {
     "data": {
      "application/vnd.jupyter.widget-view+json": {
       "model_id": "a4336d2063ac4d95aa96e333bb01d990",
       "version_major": 2,
       "version_minor": 0
      },
      "text/plain": [
       "Training Run #1:   0%|          | 0/20 [00:00<?, ?epoch/s]"
      ]
     },
     "metadata": {},
     "output_type": "display_data"
    },
    {
     "data": {
      "application/vnd.jupyter.widget-view+json": {
       "model_id": "d5c231238fca401e895aed5e6a5c2b3b",
       "version_major": 2,
       "version_minor": 0
      },
      "text/plain": [
       "Epoch 1/20 (Train):   0%|          | 0/375 [00:00<?, ?batch/s]"
      ]
     },
     "metadata": {},
     "output_type": "display_data"
    },
    {
     "data": {
      "application/vnd.jupyter.widget-view+json": {
       "model_id": "7cc3a44d0b1146108efe8048cdba41ac",
       "version_major": 2,
       "version_minor": 0
      },
      "text/plain": [
       "Epoch 2/20 (Train):   0%|          | 0/375 [00:00<?, ?batch/s]"
      ]
     },
     "metadata": {},
     "output_type": "display_data"
    },
    {
     "data": {
      "application/vnd.jupyter.widget-view+json": {
       "model_id": "665ffc7dcf68423781ca41d7b8722c86",
       "version_major": 2,
       "version_minor": 0
      },
      "text/plain": [
       "Epoch 3/20 (Train):   0%|          | 0/375 [00:00<?, ?batch/s]"
      ]
     },
     "metadata": {},
     "output_type": "display_data"
    },
    {
     "data": {
      "application/vnd.jupyter.widget-view+json": {
       "model_id": "8c1d99a0e23549b1b5fb31b75ca06674",
       "version_major": 2,
       "version_minor": 0
      },
      "text/plain": [
       "Epoch 4/20 (Train):   0%|          | 0/375 [00:00<?, ?batch/s]"
      ]
     },
     "metadata": {},
     "output_type": "display_data"
    },
    {
     "data": {
      "application/vnd.jupyter.widget-view+json": {
       "model_id": "c2ef63d2fc824eae8102ca17450bed2d",
       "version_major": 2,
       "version_minor": 0
      },
      "text/plain": [
       "Epoch 5/20 (Train):   0%|          | 0/375 [00:00<?, ?batch/s]"
      ]
     },
     "metadata": {},
     "output_type": "display_data"
    },
    {
     "data": {
      "application/vnd.jupyter.widget-view+json": {
       "model_id": "c09e77c8b90d43c4b408d61083e8c332",
       "version_major": 2,
       "version_minor": 0
      },
      "text/plain": [
       "Epoch 6/20 (Train):   0%|          | 0/375 [00:00<?, ?batch/s]"
      ]
     },
     "metadata": {},
     "output_type": "display_data"
    },
    {
     "data": {
      "application/vnd.jupyter.widget-view+json": {
       "model_id": "ca7950f5ab744fe0a5d2b1c756b93d10",
       "version_major": 2,
       "version_minor": 0
      },
      "text/plain": [
       "Epoch 7/20 (Train):   0%|          | 0/375 [00:00<?, ?batch/s]"
      ]
     },
     "metadata": {},
     "output_type": "display_data"
    },
    {
     "data": {
      "application/vnd.jupyter.widget-view+json": {
       "model_id": "09211d2d45c249ddb4e94ed10591a1b4",
       "version_major": 2,
       "version_minor": 0
      },
      "text/plain": [
       "Epoch 8/20 (Train):   0%|          | 0/375 [00:00<?, ?batch/s]"
      ]
     },
     "metadata": {},
     "output_type": "display_data"
    },
    {
     "data": {
      "application/vnd.jupyter.widget-view+json": {
       "model_id": "9003a11afed34e5b9cb792d50c0b65b8",
       "version_major": 2,
       "version_minor": 0
      },
      "text/plain": [
       "Epoch 9/20 (Train):   0%|          | 0/375 [00:00<?, ?batch/s]"
      ]
     },
     "metadata": {},
     "output_type": "display_data"
    },
    {
     "data": {
      "application/vnd.jupyter.widget-view+json": {
       "model_id": "e582705ec37c437a8b2fe6b0f4bb69e5",
       "version_major": 2,
       "version_minor": 0
      },
      "text/plain": [
       "Epoch 10/20 (Train):   0%|          | 0/375 [00:00<?, ?batch/s]"
      ]
     },
     "metadata": {},
     "output_type": "display_data"
    },
    {
     "data": {
      "application/vnd.jupyter.widget-view+json": {
       "model_id": "ae6c032d07964f0795c0848ea0814062",
       "version_major": 2,
       "version_minor": 0
      },
      "text/plain": [
       "Epoch 11/20 (Train):   0%|          | 0/375 [00:00<?, ?batch/s]"
      ]
     },
     "metadata": {},
     "output_type": "display_data"
    },
    {
     "data": {
      "application/vnd.jupyter.widget-view+json": {
       "model_id": "83837ea6c1fd40bd84a3eb07f8991728",
       "version_major": 2,
       "version_minor": 0
      },
      "text/plain": [
       "Epoch 12/20 (Train):   0%|          | 0/375 [00:00<?, ?batch/s]"
      ]
     },
     "metadata": {},
     "output_type": "display_data"
    },
    {
     "data": {
      "application/vnd.jupyter.widget-view+json": {
       "model_id": "fcdc9eceb9f74c49bc80bd043ff172ed",
       "version_major": 2,
       "version_minor": 0
      },
      "text/plain": [
       "Epoch 13/20 (Train):   0%|          | 0/375 [00:00<?, ?batch/s]"
      ]
     },
     "metadata": {},
     "output_type": "display_data"
    },
    {
     "data": {
      "application/vnd.jupyter.widget-view+json": {
       "model_id": "0c83aabcd25847d7a6df3754d1a8c605",
       "version_major": 2,
       "version_minor": 0
      },
      "text/plain": [
       "Epoch 14/20 (Train):   0%|          | 0/375 [00:00<?, ?batch/s]"
      ]
     },
     "metadata": {},
     "output_type": "display_data"
    },
    {
     "data": {
      "application/vnd.jupyter.widget-view+json": {
       "model_id": "f70255219686497ea271e63d15a244cb",
       "version_major": 2,
       "version_minor": 0
      },
      "text/plain": [
       "Epoch 15/20 (Train):   0%|          | 0/375 [00:00<?, ?batch/s]"
      ]
     },
     "metadata": {},
     "output_type": "display_data"
    },
    {
     "data": {
      "application/vnd.jupyter.widget-view+json": {
       "model_id": "93f43c0bd08347e180edb7832fcd0577",
       "version_major": 2,
       "version_minor": 0
      },
      "text/plain": [
       "Epoch 16/20 (Train):   0%|          | 0/375 [00:00<?, ?batch/s]"
      ]
     },
     "metadata": {},
     "output_type": "display_data"
    },
    {
     "data": {
      "application/vnd.jupyter.widget-view+json": {
       "model_id": "69a91de1f6cb4c8fbc621acd325f2f4e",
       "version_major": 2,
       "version_minor": 0
      },
      "text/plain": [
       "Epoch 17/20 (Train):   0%|          | 0/375 [00:00<?, ?batch/s]"
      ]
     },
     "metadata": {},
     "output_type": "display_data"
    },
    {
     "data": {
      "application/vnd.jupyter.widget-view+json": {
       "model_id": "38c668110585422bb141626057b8aeeb",
       "version_major": 2,
       "version_minor": 0
      },
      "text/plain": [
       "Epoch 18/20 (Train):   0%|          | 0/375 [00:00<?, ?batch/s]"
      ]
     },
     "metadata": {},
     "output_type": "display_data"
    },
    {
     "data": {
      "application/vnd.jupyter.widget-view+json": {
       "model_id": "68aade50ae3c47e681e96566068fb378",
       "version_major": 2,
       "version_minor": 0
      },
      "text/plain": [
       "Epoch 19/20 (Train):   0%|          | 0/375 [00:00<?, ?batch/s]"
      ]
     },
     "metadata": {},
     "output_type": "display_data"
    },
    {
     "data": {
      "application/vnd.jupyter.widget-view+json": {
       "model_id": "eb904e7aedf64b5d9f817e532c37f699",
       "version_major": 2,
       "version_minor": 0
      },
      "text/plain": [
       "Epoch 20/20 (Train):   0%|          | 0/375 [00:00<?, ?batch/s]"
      ]
     },
     "metadata": {},
     "output_type": "display_data"
    },
    {
     "name": "stdout",
     "output_type": "stream",
     "text": [
      "Finished Training. Best Val Loss: 0.340556. Model saved to D:\\IPYNB Notebooks\\dlp_ese\\output\\tuning_results\\STGCN_run_1.pth\n",
      "\n",
      "\n",
      "NOTE: Skipping GAT_LSTM due to its high computational cost. To run it, remove this check.\n",
      "\n",
      "\n",
      "================= TUNING COMPLETE ==================\n",
      "Best performing models from completed runs:\n"
     ]
    },
    {
     "data": {
      "text/html": [
       "<div>\n",
       "<style scoped>\n",
       "    .dataframe tbody tr th:only-of-type {\n",
       "        vertical-align: middle;\n",
       "    }\n",
       "\n",
       "    .dataframe tbody tr th {\n",
       "        vertical-align: top;\n",
       "    }\n",
       "\n",
       "    .dataframe thead th {\n",
       "        text-align: right;\n",
       "    }\n",
       "</style>\n",
       "<table border=\"1\" class=\"dataframe\">\n",
       "  <thead>\n",
       "    <tr style=\"text-align: right;\">\n",
       "      <th></th>\n",
       "      <th>model_name</th>\n",
       "      <th>run_id</th>\n",
       "      <th>val_loss</th>\n",
       "      <th>params</th>\n",
       "    </tr>\n",
       "  </thead>\n",
       "  <tbody>\n",
       "    <tr>\n",
       "      <th>0</th>\n",
       "      <td>DSTAGNN</td>\n",
       "      <td>1</td>\n",
       "      <td>0.396932</td>\n",
       "      <td>{'spatial_hidden': 32, 'temporal_hidden': 64, ...</td>\n",
       "    </tr>\n",
       "    <tr>\n",
       "      <th>1</th>\n",
       "      <td>STGCN</td>\n",
       "      <td>1</td>\n",
       "      <td>0.340556</td>\n",
       "      <td>{'out_channels': 32, 'spatial_channels': 8, 'l...</td>\n",
       "    </tr>\n",
       "  </tbody>\n",
       "</table>\n",
       "</div>"
      ],
      "text/plain": [
       "  model_name  run_id  val_loss  \\\n",
       "0    DSTAGNN       1  0.396932   \n",
       "1      STGCN       1  0.340556   \n",
       "\n",
       "                                              params  \n",
       "0  {'spatial_hidden': 32, 'temporal_hidden': 64, ...  \n",
       "1  {'out_channels': 32, 'spatial_channels': 8, 'l...  "
      ]
     },
     "metadata": {},
     "output_type": "display_data"
    },
    {
     "name": "stdout",
     "output_type": "stream",
     "text": [
      "====================================================\n",
      "\n"
     ]
    }
   ],
   "source": [
    "def train_and_validate(model, model_name, run_id, params):\n",
    "    lr = params['lr']\n",
    "    model_save_path = os.path.join(DRIVE_TUNING_PATH, f\"{model_name}_run_{run_id}.pth\")\n",
    "    optimizer = torch.optim.Adam(model.parameters(), lr=lr)\n",
    "    criterion = nn.MSELoss()\n",
    "    best_val_loss = float('inf')\n",
    "\n",
    "    print(f\"--- Training {model_name} Run #{run_id} | Params: {params} ---\")\n",
    "    epoch_pbar = tqdm(range(TUNING_EPOCHS), desc=f\"Training Run #{run_id}\", unit=\"epoch\")\n",
    "    for epoch in epoch_pbar:\n",
    "        model.train()\n",
    "        train_loss = 0\n",
    "        batch_pbar = tqdm(train_loader, desc=f\"Epoch {epoch+1}/{TUNING_EPOCHS} (Train)\", leave=False, unit=\"batch\")\n",
    "        for X_batch, y_batch in batch_pbar:\n",
    "            X_batch, y_batch = X_batch.to(device), y_batch.to(device)\n",
    "            optimizer.zero_grad()\n",
    "            output = model(X_batch)\n",
    "            loss = criterion(output, y_batch)\n",
    "            loss.backward()\n",
    "            optimizer.step()\n",
    "            train_loss += loss.item() * X_batch.size(0)\n",
    "        \n",
    "        train_loss /= len(train_loader.dataset)\n",
    "\n",
    "        model.eval()\n",
    "        val_loss = 0\n",
    "        with torch.no_grad():\n",
    "            for X_batch, y_batch in val_loader:\n",
    "                X_batch, y_batch = X_batch.to(device), y_batch.to(device)\n",
    "                val_loss += criterion(model(X_batch), y_batch).item() * X_batch.size(0)\n",
    "        val_loss /= len(val_loader.dataset)\n",
    "        \n",
    "        epoch_pbar.set_postfix(train_loss=f\"{train_loss:.5f}\", val_loss=f\"{val_loss:.5f}\", best_val_loss=f\"{best_val_loss:.5f}\")\n",
    "        if val_loss < best_val_loss:\n",
    "            best_val_loss = val_loss\n",
    "            torch.save(model.state_dict(), model_save_path)\n",
    "\n",
    "    print(f\"Finished Training. Best Val Loss: {best_val_loss:.6f}. Model saved to {model_save_path}\\n\")\n",
    "    return {'model_name': model_name, 'run_id': run_id, 'params': params, 'val_loss': best_val_loss, 'save_path': model_save_path}\n",
    "\n",
    "def run_hyperparameter_tuning():\n",
    "    all_results = []\n",
    "    try:\n",
    "        tuning_pbar = tqdm(SEARCH_SPACE.items(), desc=\"Overall Tuning Progress\")\n",
    "        for model_name, param_list in tuning_pbar:\n",
    "            tuning_pbar.set_description(f\"Tuning {model_name}\")\n",
    "            if model_name == \"GAT_LSTM\":\n",
    "                print(\"\\nNOTE: Skipping GAT_LSTM due to its high computational cost. To run it, remove this check.\")\n",
    "                time.sleep(2)\n",
    "                continue\n",
    "            for i, params in enumerate(param_list):\n",
    "                ModelClass = MODEL_CLASSES[model_name]\n",
    "                model = ModelClass(adj=adj_norm, num_nodes=adj_matrix.shape[0], forecast_horizon=HORIZON, **params).to(device)\n",
    "                result = train_and_validate(model, model_name, i + 1, params)\n",
    "                all_results.append(result)\n",
    "    except KeyboardInterrupt:\n",
    "        print(\"\\n\\nUser interrupted training. Analyzing results so far...\")\n",
    "    \n",
    "    if not all_results: return None\n",
    "    results_df = pd.DataFrame(all_results)\n",
    "    best_models_info = results_df.loc[results_df.groupby('model_name')['val_loss'].idxmin()]\n",
    "\n",
    "    print(\"\\n\\n================= TUNING COMPLETE ==================\")\n",
    "    print(\"Best performing models from completed runs:\")\n",
    "    display(best_models_info[['model_name', 'run_id', 'val_loss', 'params']])\n",
    "    print(\"====================================================\\n\")\n",
    "    return best_models_info\n",
    "\n",
    "# This cell will run the training loop. If you want to skip it and load\n",
    "# pre-trained models, you can skip this cell and run the next one instead.\n",
    "best_models_df = run_hyperparameter_tuning()"
   ]
  },
  {
   "cell_type": "code",
   "execution_count": 22,
   "id": "8f686dfc",
   "metadata": {},
   "outputs": [],
   "source": [
    "# # --- Load Information from a Previous Training Run ---\n",
    "# # If you have already run the training cell above and have the saved models,\n",
    "# # you can run this cell INSTEAD of the training cell to load the results.\n",
    "\n",
    "# # Manually define the best results from your previous run's log.\n",
    "# best_models_data = [\n",
    "#     {\n",
    "#         'model_name': 'DSTAGNN', 'run_id': 2, 'val_loss': 0.396015,\n",
    "#         'params': SEARCH_SPACE['DSTAGNN'][1],\n",
    "#         'save_path': os.path.join(DRIVE_TUNING_PATH, 'DSTAGNN_run_2.pth')\n",
    "#     },\n",
    "#     {\n",
    "#         'model_name': 'STGCN', 'run_id': 2, 'val_loss': 0.334088,\n",
    "#         'params': SEARCH_SPACE['STGCN'][1],\n",
    "#         'save_path': os.path.join(DRIVE_TUNING_PATH, 'STGCN_run_2.pth')\n",
    "#     }\n",
    "# ]\n",
    "# best_models_df = pd.DataFrame(best_models_data)\n",
    "\n",
    "# print(\"=================================================================\")\n",
    "# print(\"=== Successfully loaded information for pre-trained models. ===\")\n",
    "# print(\"=================================================================\\n\")\n",
    "# display(best_models_df)"
   ]
  },
  {
   "cell_type": "code",
   "execution_count": null,
   "id": "b0a264ed",
   "metadata": {},
   "outputs": [
    {
     "name": "stdout",
     "output_type": "stream",
     "text": [
      "--- Evaluating best DSTAGNN model on Test Set ---\n"
     ]
    },
    {
     "name": "stderr",
     "output_type": "stream",
     "text": [
      "C:\\Users\\parth\\AppData\\Local\\Temp\\ipykernel_34444\\2416850721.py:3: FutureWarning: You are using `torch.load` with `weights_only=False` (the current default value), which uses the default pickle module implicitly. It is possible to construct malicious pickle data which will execute arbitrary code during unpickling (See https://github.com/pytorch/pytorch/blob/main/SECURITY.md#untrusted-models for more details). In a future release, the default value for `weights_only` will be flipped to `True`. This limits the functions that could be executed during unpickling. Arbitrary objects will no longer be allowed to be loaded via this mode unless they are explicitly allowlisted by the user via `torch.serialization.add_safe_globals`. We recommend you start setting `weights_only=True` for any use case where you don't have full control of the loaded file. Please open an issue on GitHub for any issues related to this experimental feature.\n",
      "  model.load_state_dict(torch.load(save_path))\n"
     ]
    },
    {
     "name": "stdout",
     "output_type": "stream",
     "text": [
      "  Overall Test MAE: 7.2130\n",
      "\n",
      "--- Evaluating best STGCN model on Test Set ---\n"
     ]
    },
    {
     "name": "stderr",
     "output_type": "stream",
     "text": [
      "C:\\Users\\parth\\AppData\\Local\\Temp\\ipykernel_34444\\2416850721.py:3: FutureWarning: You are using `torch.load` with `weights_only=False` (the current default value), which uses the default pickle module implicitly. It is possible to construct malicious pickle data which will execute arbitrary code during unpickling (See https://github.com/pytorch/pytorch/blob/main/SECURITY.md#untrusted-models for more details). In a future release, the default value for `weights_only` will be flipped to `True`. This limits the functions that could be executed during unpickling. Arbitrary objects will no longer be allowed to be loaded via this mode unless they are explicitly allowlisted by the user via `torch.serialization.add_safe_globals`. We recommend you start setting `weights_only=True` for any use case where you don't have full control of the loaded file. Please open an issue on GitHub for any issues related to this experimental feature.\n",
      "  model.load_state_dict(torch.load(save_path))\n"
     ]
    },
    {
     "name": "stdout",
     "output_type": "stream",
     "text": [
      "  Overall Test MAE: 6.4561\n",
      "\n",
      "\n",
      "--- Detailed Error Analysis for: DSTAGNN ---\n"
     ]
    },
    {
     "data": {
      "text/html": [
       "<div>\n",
       "<style scoped>\n",
       "    .dataframe tbody tr th:only-of-type {\n",
       "        vertical-align: middle;\n",
       "    }\n",
       "\n",
       "    .dataframe tbody tr th {\n",
       "        vertical-align: top;\n",
       "    }\n",
       "\n",
       "    .dataframe thead th {\n",
       "        text-align: right;\n",
       "    }\n",
       "</style>\n",
       "<table border=\"1\" class=\"dataframe\">\n",
       "  <thead>\n",
       "    <tr style=\"text-align: right;\">\n",
       "      <th></th>\n",
       "      <th>Time Step</th>\n",
       "      <th>MAE (Error in mph)</th>\n",
       "    </tr>\n",
       "  </thead>\n",
       "  <tbody>\n",
       "    <tr>\n",
       "      <th>0</th>\n",
       "      <td>t+1 (5 mins)</td>\n",
       "      <td>4.999</td>\n",
       "    </tr>\n",
       "    <tr>\n",
       "      <th>1</th>\n",
       "      <td>t+2 (10 mins)</td>\n",
       "      <td>5.447</td>\n",
       "    </tr>\n",
       "    <tr>\n",
       "      <th>2</th>\n",
       "      <td>t+3 (15 mins)</td>\n",
       "      <td>5.798</td>\n",
       "    </tr>\n",
       "    <tr>\n",
       "      <th>3</th>\n",
       "      <td>t+4 (20 mins)</td>\n",
       "      <td>6.450</td>\n",
       "    </tr>\n",
       "    <tr>\n",
       "      <th>4</th>\n",
       "      <td>t+5 (25 mins)</td>\n",
       "      <td>6.877</td>\n",
       "    </tr>\n",
       "    <tr>\n",
       "      <th>5</th>\n",
       "      <td>t+6 (30 mins)</td>\n",
       "      <td>7.130</td>\n",
       "    </tr>\n",
       "    <tr>\n",
       "      <th>6</th>\n",
       "      <td>t+7 (35 mins)</td>\n",
       "      <td>7.516</td>\n",
       "    </tr>\n",
       "    <tr>\n",
       "      <th>7</th>\n",
       "      <td>t+8 (40 mins)</td>\n",
       "      <td>7.893</td>\n",
       "    </tr>\n",
       "    <tr>\n",
       "      <th>8</th>\n",
       "      <td>t+9 (45 mins)</td>\n",
       "      <td>8.041</td>\n",
       "    </tr>\n",
       "    <tr>\n",
       "      <th>9</th>\n",
       "      <td>t+10 (50 mins)</td>\n",
       "      <td>8.574</td>\n",
       "    </tr>\n",
       "    <tr>\n",
       "      <th>10</th>\n",
       "      <td>t+11 (55 mins)</td>\n",
       "      <td>8.883</td>\n",
       "    </tr>\n",
       "    <tr>\n",
       "      <th>11</th>\n",
       "      <td>t+12 (60 mins)</td>\n",
       "      <td>8.948</td>\n",
       "    </tr>\n",
       "  </tbody>\n",
       "</table>\n",
       "</div>"
      ],
      "text/plain": [
       "         Time Step MAE (Error in mph)\n",
       "0     t+1 (5 mins)              4.999\n",
       "1    t+2 (10 mins)              5.447\n",
       "2    t+3 (15 mins)              5.798\n",
       "3    t+4 (20 mins)              6.450\n",
       "4    t+5 (25 mins)              6.877\n",
       "5    t+6 (30 mins)              7.130\n",
       "6    t+7 (35 mins)              7.516\n",
       "7    t+8 (40 mins)              7.893\n",
       "8    t+9 (45 mins)              8.041\n",
       "9   t+10 (50 mins)              8.574\n",
       "10  t+11 (55 mins)              8.883\n",
       "11  t+12 (60 mins)              8.948"
      ]
     },
     "metadata": {},
     "output_type": "display_data"
    },
    {
     "name": "stdout",
     "output_type": "stream",
     "text": [
      "\n",
      "--- Detailed Error Analysis for: STGCN ---\n"
     ]
    },
    {
     "data": {
      "text/html": [
       "<div>\n",
       "<style scoped>\n",
       "    .dataframe tbody tr th:only-of-type {\n",
       "        vertical-align: middle;\n",
       "    }\n",
       "\n",
       "    .dataframe tbody tr th {\n",
       "        vertical-align: top;\n",
       "    }\n",
       "\n",
       "    .dataframe thead th {\n",
       "        text-align: right;\n",
       "    }\n",
       "</style>\n",
       "<table border=\"1\" class=\"dataframe\">\n",
       "  <thead>\n",
       "    <tr style=\"text-align: right;\">\n",
       "      <th></th>\n",
       "      <th>Time Step</th>\n",
       "      <th>MAE (Error in mph)</th>\n",
       "    </tr>\n",
       "  </thead>\n",
       "  <tbody>\n",
       "    <tr>\n",
       "      <th>0</th>\n",
       "      <td>t+1 (5 mins)</td>\n",
       "      <td>3.698</td>\n",
       "    </tr>\n",
       "    <tr>\n",
       "      <th>1</th>\n",
       "      <td>t+2 (10 mins)</td>\n",
       "      <td>4.152</td>\n",
       "    </tr>\n",
       "    <tr>\n",
       "      <th>2</th>\n",
       "      <td>t+3 (15 mins)</td>\n",
       "      <td>4.737</td>\n",
       "    </tr>\n",
       "    <tr>\n",
       "      <th>3</th>\n",
       "      <td>t+4 (20 mins)</td>\n",
       "      <td>5.309</td>\n",
       "    </tr>\n",
       "    <tr>\n",
       "      <th>4</th>\n",
       "      <td>t+5 (25 mins)</td>\n",
       "      <td>5.869</td>\n",
       "    </tr>\n",
       "    <tr>\n",
       "      <th>5</th>\n",
       "      <td>t+6 (30 mins)</td>\n",
       "      <td>6.188</td>\n",
       "    </tr>\n",
       "    <tr>\n",
       "      <th>6</th>\n",
       "      <td>t+7 (35 mins)</td>\n",
       "      <td>6.734</td>\n",
       "    </tr>\n",
       "    <tr>\n",
       "      <th>7</th>\n",
       "      <td>t+8 (40 mins)</td>\n",
       "      <td>7.302</td>\n",
       "    </tr>\n",
       "    <tr>\n",
       "      <th>8</th>\n",
       "      <td>t+9 (45 mins)</td>\n",
       "      <td>7.898</td>\n",
       "    </tr>\n",
       "    <tr>\n",
       "      <th>9</th>\n",
       "      <td>t+10 (50 mins)</td>\n",
       "      <td>8.410</td>\n",
       "    </tr>\n",
       "    <tr>\n",
       "      <th>10</th>\n",
       "      <td>t+11 (55 mins)</td>\n",
       "      <td>8.611</td>\n",
       "    </tr>\n",
       "    <tr>\n",
       "      <th>11</th>\n",
       "      <td>t+12 (60 mins)</td>\n",
       "      <td>8.566</td>\n",
       "    </tr>\n",
       "  </tbody>\n",
       "</table>\n",
       "</div>"
      ],
      "text/plain": [
       "         Time Step MAE (Error in mph)\n",
       "0     t+1 (5 mins)              3.698\n",
       "1    t+2 (10 mins)              4.152\n",
       "2    t+3 (15 mins)              4.737\n",
       "3    t+4 (20 mins)              5.309\n",
       "4    t+5 (25 mins)              5.869\n",
       "5    t+6 (30 mins)              6.188\n",
       "6    t+7 (35 mins)              6.734\n",
       "7    t+8 (40 mins)              7.302\n",
       "8    t+9 (45 mins)              7.898\n",
       "9   t+10 (50 mins)              8.410\n",
       "10  t+11 (55 mins)              8.611\n",
       "11  t+12 (60 mins)              8.566"
      ]
     },
     "metadata": {},
     "output_type": "display_data"
    }
   ],
   "source": [
    "def evaluate_best_model(model_class, params, save_path):\n",
    "    model = model_class(adj=adj_norm, num_nodes=adj_matrix.shape[0], forecast_horizon=HORIZON, **params).to(device)\n",
    "    model.load_state_dict(torch.load(save_path))\n",
    "    model.eval()\n",
    "\n",
    "    predictions, actuals = [], []\n",
    "    with torch.no_grad():\n",
    "        for X_batch, y_batch in test_loader:\n",
    "            predictions.append(model(X_batch.to(device)).cpu().numpy())\n",
    "            actuals.append(y_batch.numpy())\n",
    "    \n",
    "    predictions, actuals = np.concatenate(predictions, axis=0), np.concatenate(actuals, axis=0)\n",
    "    num_samples, num_sensors, _ = predictions.shape\n",
    "    preds_unscaled = scaler.inverse_transform(predictions.reshape(-1, num_sensors)).reshape(num_samples, num_sensors, -1)\n",
    "    actuals_unscaled = scaler.inverse_transform(actuals.reshape(-1, num_sensors)).reshape(num_samples, num_sensors, -1)\n",
    "    return preds_unscaled, actuals_unscaled\n",
    "\n",
    "evaluation_results = {}\n",
    "for _, row in best_models_df.iterrows():\n",
    "    model_name = row['model_name']\n",
    "    print(f\"--- Evaluating best {model_name} model on Test Set ---\")\n",
    "    preds, actuals = evaluate_best_model(MODEL_CLASSES[model_name], row['params'], row['save_path'])\n",
    "    evaluation_results[model_name] = {'predictions': preds, 'actuals': actuals, 'params': row['params']}\n",
    "    mae = np.mean(np.abs(preds - actuals))\n",
    "    print(f\"  Overall Test MAE: {mae:.4f}\\n\")\n",
    "\n",
    "# --- Detailed Error Analysis per Forecast Horizon Step ---\n",
    "for model_name, results in evaluation_results.items():\n",
    "    print(f\"\\n--- Detailed Error Analysis for: {model_name} ---\")\n",
    "    per_step_metrics = [{'Time Step': f't+{(h+1)} ({(h+1)*5} mins)',\n",
    "                         'MAE (Error in mph)': np.mean(np.abs(results['predictions'][:,:,h] - results['actuals'][:,:,h]))}\n",
    "                        for h in range(HORIZON)]\n",
    "    metrics_df = pd.DataFrame(per_step_metrics)\n",
    "    metrics_df['MAE (Error in mph)'] = metrics_df['MAE (Error in mph)'].map('{:.3f}'.format)\n",
    "    display(metrics_df)"
   ]
  },
  {
   "cell_type": "code",
   "execution_count": 9,
   "id": "7abbb70f",
   "metadata": {},
   "outputs": [
    {
     "name": "stdout",
     "output_type": "stream",
     "text": [
      "Visualization helpers defined.\n"
     ]
    }
   ],
   "source": [
    "# Encapsulate all the styling logic into helper functions\n",
    "def get_viz_styling(df):\n",
    "    \"\"\"Applies all the glow and color styling to a dataframe.\"\"\"\n",
    "    def speed_to_color(speed):\n",
    "        if speed > 55: return [161, 217, 155, 255]\n",
    "        if speed > 35: return [254, 217, 118, 255]\n",
    "        return [255, 0, 0, 255]\n",
    "\n",
    "    df['color'] = df['predicted_speed'].apply(speed_to_color)\n",
    "    df['elevation'] = 18 + (65 - df['predicted_speed']).clip(lower=0) * 1.8\n",
    "    # Create the columns that the layer function will use by name\n",
    "    df['glow_inner'] = df['color'].apply(lambda c: [c[0], c[1], c[2], 240])\n",
    "    df['glow_mid'] = df['color'].apply(lambda c: [c[0], c[1], c[2], 140])\n",
    "    df['glow_outer'] = df['color'].apply(lambda c: [c[0], c[1], c[2], 50])\n",
    "    df['glow_peak'] = df['color'].apply(lambda c: [min(255, int(c[0]*1.25+40)), min(255, int(c[1]*1.25+40)), min(255, int(c[2]*1.25+40)), 255])\n",
    "    return df\n",
    "\n",
    "def get_pydeck_layers(df):\n",
    "    \"\"\"Returns a list of all styled pydeck layers.\"\"\"\n",
    "    material = {\"ambient\": 0.55, \"diffuse\": 0.7, \"shininess\": 120, \"specularColor\": [255, 255, 255]}\n",
    "    \n",
    "    # --- THE FIX: The 'get_fill_color' arguments now correctly reference the column names as strings ---\n",
    "    return [\n",
    "        pdk.Layer(\"ScatterplotLayer\", data=df, get_position='[longitude, latitude]', get_fill_color='glow_outer', get_radius=160, radius_scale=2.5, billboard=False, pickable=False),\n",
    "        pdk.Layer(\"ScatterplotLayer\", data=df, get_position='[longitude, latitude]', get_fill_color='glow_mid', get_radius=90, radius_scale=2.2, billboard=False, pickable=False),\n",
    "        pdk.Layer(\"ColumnLayer\", data=df, get_position='[longitude, latitude]', get_elevation='elevation', elevation_scale=5, radius=50, diskResolution=4, get_fill_color='color', material=material, pickable=True, auto_highlight=True),\n",
    "        pdk.Layer(\"ScatterplotLayer\", data=df, get_position='[longitude, latitude]', get_fill_color='glow_inner', get_radius=40, radius_scale=1.8, billboard=False, pickable=False),\n",
    "        pdk.Layer(\"ScatterplotLayer\", data=df, get_position='[longitude, latitude]', get_fill_color='glow_peak', get_radius=18, radius_scale=2.5, billboard=True, pickable=False),\n",
    "    ]\n",
    "    # ------------------------------------------------------------------------------------------------------\n",
    "\n",
    "def get_pydeck_config():\n",
    "    \"\"\"Returns common pydeck configuration.\"\"\"\n",
    "    lighting_effect = {\n",
    "        \"@@type\": \"LightingEffect\", \"shadowColor\": [0,0,0,0.45],\n",
    "        \"ambientLight\": {\"@@type\":\"AmbientLight\", \"color\":[255,255,255], \"intensity\":1.0},\n",
    "        \"pointLight1\": {\"@@type\":\"PointLight\", \"color\":[82,194,230], \"intensity\":0.85, \"position\":[-0.14,49.7,80000]},\n",
    "        \"pointLight2\": {\"@@type\":\"PointLight\", \"color\":[255,255,255], \"intensity\":0.7, \"position\":[-3.8,54.1,8000]}\n",
    "    }\n",
    "    view_state = pdk.ViewState(longitude=-118.3, latitude=34.0, zoom=9.5, pitch=55, bearing=15)\n",
    "    return view_state, lighting_effect\n",
    "\n",
    "print(\"Visualization helpers defined.\")"
   ]
  },
  {
   "cell_type": "code",
   "execution_count": null,
   "id": "3d723609",
   "metadata": {},
   "outputs": [
    {
     "name": "stdout",
     "output_type": "stream",
     "text": [
      "Select a model and click the button to visualize its performance on the test set.\n"
     ]
    },
    {
     "data": {
      "application/vnd.jupyter.widget-view+json": {
       "model_id": "53659f725c024e7ca56b4e12bcb6447c",
       "version_major": 2,
       "version_minor": 0
      },
      "text/plain": [
       "Dropdown(description='Select Model:', options=('DSTAGNN', 'STGCN'), value='DSTAGNN')"
      ]
     },
     "metadata": {},
     "output_type": "display_data"
    },
    {
     "data": {
      "application/vnd.jupyter.widget-view+json": {
       "model_id": "b0c3de2767834b22bc0ac1f333bc0051",
       "version_major": 2,
       "version_minor": 0
      },
      "text/plain": [
       "Button(description='Generate Test Set Visual', style=ButtonStyle())"
      ]
     },
     "metadata": {},
     "output_type": "display_data"
    },
    {
     "data": {
      "application/vnd.jupyter.widget-view+json": {
       "model_id": "4be4482c9a4c4049984c04782c78bffa",
       "version_major": 2,
       "version_minor": 0
      },
      "text/plain": [
       "Output()"
      ]
     },
     "metadata": {},
     "output_type": "display_data"
    }
   ],
   "source": [
    "# --- Widgets for interactivity ---\n",
    "model_selector = widgets.Dropdown(\n",
    "    options=list(evaluation_results.keys()),\n",
    "    description='Select Model:',\n",
    "    disabled=False,\n",
    ")\n",
    "generate_button = widgets.Button(description=\"Generate Test Set Visual\")\n",
    "output_area = widgets.Output()\n",
    "\n",
    "def display_test_set_visual(model_name):\n",
    "    \"\"\"Generates the test set map for the selected model.\"\"\"\n",
    "    # --- THE FIX: All lines inside this function are now correctly indented ---\n",
    "    results = evaluation_results[model_name]\n",
    "    viz_timestamp_idx, viz_horizon_idx = 150, 2\n",
    "\n",
    "    viz_df = df_locations.copy()\n",
    "    viz_df['predicted_speed'] = results['predictions'][viz_timestamp_idx, :, viz_horizon_idx]\n",
    "    viz_df['actual_speed'] = results['actuals'][viz_timestamp_idx, :, viz_horizon_idx]\n",
    "\n",
    "    def create_tooltip(row):\n",
    "        return f\"<b>Sensor ID:</b> {row['sensor_ids']}<br/><b>Predicted:</b> {row['predicted_speed']:.2f} mph<br/><b>Actual:</b> {row['actual_speed']:.2f} mph\"\n",
    "    viz_df['tooltip_text'] = viz_df.apply(create_tooltip, axis=1)\n",
    "\n",
    "    viz_df = get_viz_styling(viz_df)\n",
    "\n",
    "    timestamp = df_traffic.index[train_size + val_size + viz_timestamp_idx + HISTORY_LEN + viz_horizon_idx]\n",
    "    text_layer = pdk.Layer(\"TextLayer\", [{\"position\": [-118.476, 34.09], \"text\": f\"{model_name} - {timestamp.date()}\"}], get_position='position', get_text='text', get_size=20, get_color=[161, 217, 155, 255])\n",
    "\n",
    "    view_state, lighting_effect = get_pydeck_config()\n",
    "    layers = get_pydeck_layers(viz_df) + [text_layer]\n",
    "    tooltip = {\"html\": \"{tooltip_text}\", \"style\": {\"backgroundColor\": \"rgba(0,0,0,0.75)\", \"color\": \"white\"}}\n",
    "\n",
    "    r = pdk.Deck(layers=layers, initial_view_state=view_state, api_keys={'mapbox': MAPBOX_API_KEY}, map_provider=\"mapbox\", map_style=\"mapbox://styles/mapbox/dark-v10\", effects=[lighting_effect], tooltip=tooltip)\n",
    "\n",
    "    with output_area:\n",
    "        clear_output(wait=True)\n",
    "        print(f\"Displaying Test Set Performance for: {model_name}\")\n",
    "        display(r)\n",
    "\n",
    "def on_button_clicked(b):\n",
    "    display_test_set_visual(model_selector.value)\n",
    "\n",
    "generate_button.on_click(on_button_clicked)\n",
    "\n",
    "print(\"Select a model and click the button to visualize its performance on the test set.\")\n",
    "display(model_selector, generate_button, output_area)"
   ]
  },
  {
   "cell_type": "code",
   "execution_count": null,
   "id": "7b6a06e3",
   "metadata": {},
   "outputs": [
    {
     "name": "stdout",
     "output_type": "stream",
     "text": [
      "\n",
      "Select a model and click this button to visualize the 'Severe Gridlock' what-if scenario.\n"
     ]
    },
    {
     "data": {
      "application/vnd.jupyter.widget-view+json": {
       "model_id": "1d46d8c229e3409c89d456d9c520e4e3",
       "version_major": 2,
       "version_minor": 0
      },
      "text/plain": [
       "Button(description=\"Generate 'What-If' Visual\", style=ButtonStyle())"
      ]
     },
     "metadata": {},
     "output_type": "display_data"
    },
    {
     "data": {
      "application/vnd.jupyter.widget-view+json": {
       "model_id": "c89a22186940456e9937a9984eaae9a6",
       "version_major": 2,
       "version_minor": 0
      },
      "text/plain": [
       "Output()"
      ]
     },
     "metadata": {},
     "output_type": "display_data"
    }
   ],
   "source": [
    "\n",
    "\n",
    "### **Cell 12: Code - Interactive \"What-If\" Scenario Visualization**\n",
    "\n",
    "# --- Widgets for \"what-if\" scenarios ---\n",
    "what_if_button = widgets.Button(description=\"Generate 'What-If' Visual\")\n",
    "what_if_output_area = widgets.Output()\n",
    "\n",
    "def display_what_if_visuals(model_name):\n",
    "    params = evaluation_results[model_name]['params']\n",
    "    ModelClass = MODEL_CLASSES[model_name]\n",
    "    model = ModelClass(adj=adj_norm, num_nodes=adj_matrix.shape[0], forecast_horizon=HORIZON, **params).to(device)\n",
    "    model.load_state_dict(torch.load(best_models_df.loc[best_models_df['model_name'] == model_name, 'save_path'].iloc[0]))\n",
    "    model.eval()\n",
    "\n",
    "    event_indices = df_locations.sort_values(by='latitude').index[50:65]\n",
    "    fab_input = np.full((1, HISTORY_LEN, df_traffic.shape[1]), 65.0, dtype=np.float32)\n",
    "    fab_input[0, :, event_indices] = 5.0\n",
    "    \n",
    "    fab_tensor = torch.tensor(scaler.transform(fab_input.reshape(-1, df_traffic.shape[1])).reshape(1, HISTORY_LEN, -1, 1)).to(device)\n",
    "    with torch.no_grad():\n",
    "        preds_event = scaler.inverse_transform(model(fab_tensor).cpu().numpy().reshape(-1, df_traffic.shape[1]))\n",
    "\n",
    "    viz_df = df_locations.copy()\n",
    "    viz_df['predicted_speed'] = preds_event.reshape(df_traffic.shape[1], HORIZON)[:, 2]\n",
    "    viz_df.loc[event_indices, 'predicted_speed'] = 5.0\n",
    "    viz_df['tooltip_text'] = viz_df.apply(lambda row: f\"<b>Sensor:</b> {row['sensor_ids']}<br/><b>Predicted:</b> {row['predicted_speed']:.2f} mph\", axis=1)\n",
    "    viz_df = get_viz_styling(viz_df)\n",
    "    \n",
    "    view_state, lighting_effect = get_pydeck_config()\n",
    "    layers = get_pydeck_layers(viz_df)\n",
    "    text_layer = pdk.Layer(\"TextLayer\", [{\"position\": [-118.75, 34.25], \"text\": f\"{model_name}: Gridlock Scenario\"}], get_position='position', get_text='text', get_size=20, get_color=[240, 240, 240, 255])\n",
    "    \n",
    "    with what_if_output_area:\n",
    "        clear_output(wait=True)\n",
    "        print(f\"Displaying 'What-If' Gridlock Scenario for: {model_name}\")\n",
    "        display(pdk.Deck(layers=layers + [text_layer], initial_view_state=view_state, api_keys={'mapbox': MAPBOX_API_KEY}, map_provider=\"mapbox\", map_style=\"mapbox://styles/mapbox/dark-v10\", effects=[lighting_effect], tooltip={\"html\": \"{tooltip_text}\", \"style\": {\"backgroundColor\": \"rgba(0,0,0,0.75)\", \"color\": \"white\"}}))\n",
    "\n",
    "what_if_button.on_click(lambda b: display_what_if_visuals(model_selector.value))\n",
    "print(\"\\nSelect a model and click this button to visualize the 'Severe Gridlock' what-if scenario.\")\n",
    "display(what_if_button, what_if_output_area)"
   ]
  },
  {
   "cell_type": "code",
   "execution_count": null,
   "id": "1df12079",
   "metadata": {},
   "outputs": [
    {
     "name": "stdout",
     "output_type": "stream",
     "text": [
      "\n",
      "Select a model and click this button to visualize the 'Hollywood Rerouting' what-if scenario.\n"
     ]
    },
    {
     "data": {
      "application/vnd.jupyter.widget-view+json": {
       "model_id": "5a213834fc794cc69e2eb177f7887472",
       "version_major": 2,
       "version_minor": 0
      },
      "text/plain": [
       "Button(description='Generate Rerouting Visual', style=ButtonStyle())"
      ]
     },
     "metadata": {},
     "output_type": "display_data"
    },
    {
     "data": {
      "application/vnd.jupyter.widget-view+json": {
       "model_id": "f1a6de1f2e0c4517b2b5e1d97de4d9ed",
       "version_major": 2,
       "version_minor": 0
      },
      "text/plain": [
       "Output()"
      ]
     },
     "metadata": {},
     "output_type": "display_data"
    }
   ],
   "source": [
    "# --- Widgets for rerouting ---\n",
    "reroute_button = widgets.Button(description=\"Generate Rerouting Visual\")\n",
    "reroute_output_area = widgets.Output()\n",
    "\n",
    "def display_rerouting_visual(model_name):\n",
    "    # --- 1. Define Scenario and Run Prediction ---\n",
    "    hollywood_bounds = {\"lat_min\": 34.085, \"lat_max\": 34.11, \"lon_min\": -118.35, \"lon_max\": -118.28}\n",
    "    hollywood_df = df_locations[df_locations['latitude'].between(hollywood_bounds['lat_min'], hollywood_bounds['lat_max']) & df_locations['longitude'].between(hollywood_bounds['lon_min'], hollywood_bounds['lon_max'])]\n",
    "    if hollywood_df.empty:\n",
    "        with reroute_output_area: clear_output(wait=True); print(\"ERROR: No sensors found in Hollywood bounds.\")\n",
    "        return\n",
    "    hollywood_sensor_indices = hollywood_df.index.tolist()\n",
    "    start_node, end_node = 80, 25\n",
    "\n",
    "    params, save_path = best_models_df.loc[best_models_df['model_name'] == model_name, ['params', 'save_path']].iloc[0]\n",
    "    ModelClass = MODEL_CLASSES[model_name]\n",
    "    model = ModelClass(adj=adj_norm, num_nodes=adj_matrix.shape[0], forecast_horizon=HORIZON, **params).to(device)\n",
    "    model.load_state_dict(torch.load(save_path))\n",
    "    model.eval()\n",
    "\n",
    "    fab_input = np.full((1, HISTORY_LEN, df_traffic.shape[1]), 65.0, dtype=np.float32)\n",
    "    fab_input[0, :, hollywood_sensor_indices] = 5.0\n",
    "    fab_tensor = torch.tensor(scaler.transform(fab_input.reshape(-1, df_traffic.shape[1])).reshape(1, HISTORY_LEN, -1, 1)).to(device)\n",
    "    with torch.no_grad():\n",
    "        prediction_jam = scaler.inverse_transform(model(fab_tensor).cpu().numpy().reshape(-1, df_traffic.shape[1]))\n",
    "    predicted_speeds = prediction_jam.reshape(df_traffic.shape[1], HORIZON)[:, 2]\n",
    "\n",
    "    # --- 2. Find Paths ---\n",
    "    G = nx.from_numpy_array(adj_matrix)\n",
    "    try:\n",
    "        original_path = nx.shortest_path(G, source=start_node, target=end_node)\n",
    "        G_weighted = G.copy()\n",
    "        for u, v in G_weighted.edges():\n",
    "            G_weighted.edges[u, v]['weight'] = 1.0 / (((predicted_speeds[u] + predicted_speeds[v]) / 2) + 1e-6)\n",
    "        alternate_path = nx.shortest_path(G_weighted, source=start_node, target=end_node, weight='weight')\n",
    "    except nx.NetworkXNoPath:\n",
    "        with reroute_output_area: clear_output(wait=True); print(f\"ERROR: No path found between sensors {start_node} and {end_node}.\")\n",
    "        return\n",
    "\n",
    "    # --- 3. Prepare for Visualization ---\n",
    "    path_data = [{\"name\": \"Original (Congested) Route\", \"path\": df_locations.loc[original_path, ['longitude', 'latitude']].values.tolist(), \"color\": [255, 0, 0, 255]},\n",
    "                 {\"name\": \"Suggested Alternate Route\", \"path\": df_locations.loc[alternate_path, ['longitude', 'latitude']].values.tolist(), \"color\": [0, 255, 255, 255]}]\n",
    "    \n",
    "    viz_df_jam = df_locations.copy()\n",
    "    viz_df_jam['predicted_speed'] = predicted_speeds\n",
    "    viz_df_jam.loc[hollywood_sensor_indices, 'predicted_speed'] = 5.0\n",
    "    viz_df_jam = get_viz_styling(viz_df_jam)\n",
    "\n",
    "    path_layer = pdk.Layer('PathLayer', data=pd.DataFrame(path_data), get_path='path', get_color='color', get_width=20, width_scale=5, rounded=True, pickable=True)\n",
    "    view_state = pdk.ViewState(longitude=hollywood_df['longitude'].mean(), latitude=hollywood_df['latitude'].mean(), zoom=12, pitch=55, bearing=15)\n",
    "    _, lighting_effect = get_pydeck_config()\n",
    "    layers = get_pydeck_layers(viz_df_jam)\n",
    "    text_layer = pdk.Layer(\"TextLayer\", [{\"position\": [-118.35, 34.12], \"text\": f\"{model_name}: Hollywood Rerouting\"}], get_position='position', get_text='text', get_size=20, get_color=[240, 240, 240, 255])\n",
    "    \n",
    "    with reroute_output_area:\n",
    "        clear_output(wait=True)\n",
    "        print(f\"Displaying Hollywood Rerouting Scenario for: {model_name}\")\n",
    "        display(pdk.Deck(layers=layers + [path_layer, text_layer], initial_view_state=view_state, api_keys={'mapbox': MAPBOX_API_KEY}, map_provider=\"mapbox\", map_style=\"mapbox://styles/mapbox/dark-v10\", effects=[lighting_effect], tooltip={\"html\": \"<b>{name}</b>\", \"style\": {\"backgroundColor\": \"rgba(0,0,0,0.75)\", \"color\": \"white\"}}))\n",
    "\n",
    "reroute_button.on_click(lambda b: display_rerouting_visual(model_selector.value))\n",
    "print(\"\\nSelect a model and click this button to visualize the 'Hollywood Rerouting' what-if scenario.\")\n",
    "display(reroute_button, reroute_output_area)"
   ]
  }
 ],
 "metadata": {
  "kernelspec": {
   "display_name": "torchgpu",
   "language": "python",
   "name": "python3"
  },
  "language_info": {
   "codemirror_mode": {
    "name": "ipython",
    "version": 3
   },
   "file_extension": ".py",
   "mimetype": "text/x-python",
   "name": "python",
   "nbconvert_exporter": "python",
   "pygments_lexer": "ipython3",
   "version": "3.12.11"
  }
 },
 "nbformat": 4,
 "nbformat_minor": 5
}
